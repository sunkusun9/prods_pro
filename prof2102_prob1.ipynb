{
 "cells": [
  {
   "cell_type": "markdown",
   "id": "28e16041",
   "metadata": {},
   "source": [
    "# 시험장 환경 정보\n",
    "\n",
    "Python: 3.7.4 (tags/v3.7.4:e09359112e, Jul  8 2019, 20:34:20) [MSC v.1916 64 bit (AMD64)]\n",
    "\n",
    "|모듈|버젼|\n",
    "|----|----|\n",
    "|pandas|0.25.1|\n",
    "|numpy|1.18.5|\n",
    "|sklearn|0.21.3|\n",
    "|scipy|1.5.2|\n",
    "|mlxtend|0.15.0.0|\n",
    "|statsmodels|0.11.1|\n",
    "|imblearn|0.5.0|\n",
    "|xgboost|0.80|\n",
    "\n",
    "**멀티캠퍼스 강선구 (sunku0316.kang@multicampus.com)**"
   ]
  },
  {
   "cell_type": "code",
   "execution_count": 2,
   "id": "13d23144",
   "metadata": {},
   "outputs": [
    {
     "name": "stdout",
     "output_type": "stream",
     "text": [
      "3.7.4 (tags/v3.7.4:e09359112e, Jul  8 2019, 20:34:20) [MSC v.1916 64 bit (AMD64)]\n",
      "pandas 0.25.1\n",
      "numpy 1.18.5\n",
      "sklearn 0.21.3\n",
      "scipy 1.5.2\n",
      "statsmodels 0.11.1\n",
      "mlxtend 0.15.0.0\n",
      "imblearn 0.5.0\n",
      "xgboost 0.80\n"
     ]
    }
   ],
   "source": [
    "import pandas as pd\n",
    "import numpy as np\n",
    "import sklearn\n",
    "import scipy\n",
    "import mlxtend\n",
    "import statsmodels\n",
    "import imblearn\n",
    "import xgboost\n",
    "import sys\n",
    "\n",
    "print(sys.version)\n",
    "for i in [pd, np, sklearn, scipy, statsmodels, mlxtend, imblearn, xgboost]:\n",
    "    print(i.__name__, i.__version__)"
   ]
  },
  {
   "cell_type": "code",
   "execution_count": 38,
   "id": "77e8234d",
   "metadata": {},
   "outputs": [],
   "source": [
    "import matplotlib.pyplot as plt\n",
    "import seaborn as sns\n",
    "\n",
    "from pandas.plotting import register_matplotlib_converters\n",
    "register_matplotlib_converters()"
   ]
  },
  {
   "cell_type": "markdown",
   "id": "9448d983",
   "metadata": {},
   "source": [
    "#  대문항 세트1\n",
    "\n",
    "암호 화폐의 가격 변동을 분석하고자 약 1년 간의 일자 별 암호 화폐 정보를 조사하였습니다. 다음은 분석에 활용할 데이터입니다.\n",
    "\n",
    "prof2102_1.csv (구분자: Comma(,), 40,100 Rows, 10 Columns, UTF-8 인코딩)\n",
    "\n",
    "|컬럼|정의|타입|\n",
    "|----|----|----|\n",
    "|datetime|날짜|String|\n",
    "|low|저가 (USD 달러)|Double|\n",
    "|high|고가 (USD 달러)|Double|\n",
    "|open|시작가 (USD 달러)|Double|\n",
    "|close|종료가 (USD 달러)|Double|\n",
    "|volumefrom|거래량|Double|\n",
    "|volumeto|거래량 (USD 달러)|Double|\n",
    "|cryptocurrency|암호 화폐 symbol|String|\n",
    "|image_url|암호 화폐 로고의 url|String|\n",
    "|coin_name|암호 화폐 이름|String|\n"
   ]
  },
  {
   "cell_type": "markdown",
   "id": "85590c43",
   "metadata": {},
   "source": [
    "## 공통 전처리\n",
    "\n",
    "\n",
    "**(prof2102_1.csv를 이용하여)** 분석에 앞서 다음의 전처리를 **순차적으로** 수행하시오.\n",
    "\n",
    "**A-1.** 암호 화폐 이름(coin_name)이 ‘Bitcoin’인 행만으로 구성된 데이터로, 날짜(datetime)와 종료가(close) 컬럼만을 남깁니다.\n",
    "\n",
    "위의 전처리 과정을 완료한 데이터셋을 ‘bitcoin#1’ (401 Rows, 2 Columns)으로 정의한다.\n",
    "\n",
    "(이후 문항에서의 지칭을 위하여 데이터셋 이름을 정의한 것으로, 제출 소스코드에서 반드시 위의 이름을 따를 필요는 없다.)\n"
   ]
  },
  {
   "cell_type": "code",
   "execution_count": 10,
   "id": "ccb290a8",
   "metadata": {},
   "outputs": [
    {
     "data": {
      "text/html": [
       "<div>\n",
       "<style scoped>\n",
       "    .dataframe tbody tr th:only-of-type {\n",
       "        vertical-align: middle;\n",
       "    }\n",
       "\n",
       "    .dataframe tbody tr th {\n",
       "        vertical-align: top;\n",
       "    }\n",
       "\n",
       "    .dataframe thead th {\n",
       "        text-align: right;\n",
       "    }\n",
       "</style>\n",
       "<table border=\"1\" class=\"dataframe\">\n",
       "  <thead>\n",
       "    <tr style=\"text-align: right;\">\n",
       "      <th></th>\n",
       "      <th>low</th>\n",
       "      <th>high</th>\n",
       "      <th>open</th>\n",
       "      <th>close</th>\n",
       "      <th>volumefrom</th>\n",
       "      <th>volumeto</th>\n",
       "      <th>cryptocurrency</th>\n",
       "      <th>image_url</th>\n",
       "      <th>coin_name</th>\n",
       "    </tr>\n",
       "    <tr>\n",
       "      <th>datetime</th>\n",
       "      <th></th>\n",
       "      <th></th>\n",
       "      <th></th>\n",
       "      <th></th>\n",
       "      <th></th>\n",
       "      <th></th>\n",
       "      <th></th>\n",
       "      <th></th>\n",
       "      <th></th>\n",
       "    </tr>\n",
       "  </thead>\n",
       "  <tbody>\n",
       "    <tr>\n",
       "      <td>2019-12-06</td>\n",
       "      <td>7323.86</td>\n",
       "      <td>7607.79</td>\n",
       "      <td>7406.75</td>\n",
       "      <td>7558.58</td>\n",
       "      <td>28169.83</td>\n",
       "      <td>2.098513e+08</td>\n",
       "      <td>BTC</td>\n",
       "      <td>https://www.cryptocompare.com/media/19633/btc.png</td>\n",
       "      <td>Bitcoin</td>\n",
       "    </tr>\n",
       "    <tr>\n",
       "      <td>2019-12-07</td>\n",
       "      <td>7503.10</td>\n",
       "      <td>7640.51</td>\n",
       "      <td>7558.58</td>\n",
       "      <td>7514.86</td>\n",
       "      <td>14093.87</td>\n",
       "      <td>1.065722e+08</td>\n",
       "      <td>BTC</td>\n",
       "      <td>https://www.cryptocompare.com/media/19633/btc.png</td>\n",
       "      <td>Bitcoin</td>\n",
       "    </tr>\n",
       "    <tr>\n",
       "      <td>2019-12-08</td>\n",
       "      <td>7414.51</td>\n",
       "      <td>7594.80</td>\n",
       "      <td>7514.86</td>\n",
       "      <td>7539.70</td>\n",
       "      <td>15949.09</td>\n",
       "      <td>1.200003e+08</td>\n",
       "      <td>BTC</td>\n",
       "      <td>https://www.cryptocompare.com/media/19633/btc.png</td>\n",
       "      <td>Bitcoin</td>\n",
       "    </tr>\n",
       "    <tr>\n",
       "      <td>2019-12-09</td>\n",
       "      <td>7296.42</td>\n",
       "      <td>7667.04</td>\n",
       "      <td>7539.70</td>\n",
       "      <td>7350.62</td>\n",
       "      <td>35089.72</td>\n",
       "      <td>2.621613e+08</td>\n",
       "      <td>BTC</td>\n",
       "      <td>https://www.cryptocompare.com/media/19633/btc.png</td>\n",
       "      <td>Bitcoin</td>\n",
       "    </tr>\n",
       "    <tr>\n",
       "      <td>2019-12-10</td>\n",
       "      <td>7176.42</td>\n",
       "      <td>7403.64</td>\n",
       "      <td>7350.62</td>\n",
       "      <td>7233.84</td>\n",
       "      <td>23348.59</td>\n",
       "      <td>1.704194e+08</td>\n",
       "      <td>BTC</td>\n",
       "      <td>https://www.cryptocompare.com/media/19633/btc.png</td>\n",
       "      <td>Bitcoin</td>\n",
       "    </tr>\n",
       "    <tr>\n",
       "      <td>...</td>\n",
       "      <td>...</td>\n",
       "      <td>...</td>\n",
       "      <td>...</td>\n",
       "      <td>...</td>\n",
       "      <td>...</td>\n",
       "      <td>...</td>\n",
       "      <td>...</td>\n",
       "      <td>...</td>\n",
       "      <td>...</td>\n",
       "    </tr>\n",
       "    <tr>\n",
       "      <td>2021-01-05</td>\n",
       "      <td>47.21</td>\n",
       "      <td>52.25</td>\n",
       "      <td>48.33</td>\n",
       "      <td>47.31</td>\n",
       "      <td>70216.69</td>\n",
       "      <td>3.322178e+06</td>\n",
       "      <td>DCR</td>\n",
       "      <td>https://www.cryptocompare.com/media/1382607/de...</td>\n",
       "      <td>Decred</td>\n",
       "    </tr>\n",
       "    <tr>\n",
       "      <td>2021-01-06</td>\n",
       "      <td>50.82</td>\n",
       "      <td>56.12</td>\n",
       "      <td>47.31</td>\n",
       "      <td>54.91</td>\n",
       "      <td>158525.88</td>\n",
       "      <td>8.704068e+06</td>\n",
       "      <td>DCR</td>\n",
       "      <td>https://www.cryptocompare.com/media/1382607/de...</td>\n",
       "      <td>Decred</td>\n",
       "    </tr>\n",
       "    <tr>\n",
       "      <td>2021-01-07</td>\n",
       "      <td>54.52</td>\n",
       "      <td>60.84</td>\n",
       "      <td>54.91</td>\n",
       "      <td>58.55</td>\n",
       "      <td>103968.42</td>\n",
       "      <td>6.087139e+06</td>\n",
       "      <td>DCR</td>\n",
       "      <td>https://www.cryptocompare.com/media/1382607/de...</td>\n",
       "      <td>Decred</td>\n",
       "    </tr>\n",
       "    <tr>\n",
       "      <td>2021-01-08</td>\n",
       "      <td>58.31</td>\n",
       "      <td>68.96</td>\n",
       "      <td>58.55</td>\n",
       "      <td>64.12</td>\n",
       "      <td>173032.59</td>\n",
       "      <td>1.109554e+07</td>\n",
       "      <td>DCR</td>\n",
       "      <td>https://www.cryptocompare.com/media/1382607/de...</td>\n",
       "      <td>Decred</td>\n",
       "    </tr>\n",
       "    <tr>\n",
       "      <td>2021-01-09</td>\n",
       "      <td>59.68</td>\n",
       "      <td>66.57</td>\n",
       "      <td>64.12</td>\n",
       "      <td>60.66</td>\n",
       "      <td>92876.60</td>\n",
       "      <td>5.633646e+06</td>\n",
       "      <td>DCR</td>\n",
       "      <td>https://www.cryptocompare.com/media/1382607/de...</td>\n",
       "      <td>Decred</td>\n",
       "    </tr>\n",
       "  </tbody>\n",
       "</table>\n",
       "<p>40100 rows × 9 columns</p>\n",
       "</div>"
      ],
      "text/plain": [
       "                low     high     open    close  volumefrom      volumeto  \\\n",
       "datetime                                                                   \n",
       "2019-12-06  7323.86  7607.79  7406.75  7558.58    28169.83  2.098513e+08   \n",
       "2019-12-07  7503.10  7640.51  7558.58  7514.86    14093.87  1.065722e+08   \n",
       "2019-12-08  7414.51  7594.80  7514.86  7539.70    15949.09  1.200003e+08   \n",
       "2019-12-09  7296.42  7667.04  7539.70  7350.62    35089.72  2.621613e+08   \n",
       "2019-12-10  7176.42  7403.64  7350.62  7233.84    23348.59  1.704194e+08   \n",
       "...             ...      ...      ...      ...         ...           ...   \n",
       "2021-01-05    47.21    52.25    48.33    47.31    70216.69  3.322178e+06   \n",
       "2021-01-06    50.82    56.12    47.31    54.91   158525.88  8.704068e+06   \n",
       "2021-01-07    54.52    60.84    54.91    58.55   103968.42  6.087139e+06   \n",
       "2021-01-08    58.31    68.96    58.55    64.12   173032.59  1.109554e+07   \n",
       "2021-01-09    59.68    66.57    64.12    60.66    92876.60  5.633646e+06   \n",
       "\n",
       "           cryptocurrency                                          image_url  \\\n",
       "datetime                                                                       \n",
       "2019-12-06            BTC  https://www.cryptocompare.com/media/19633/btc.png   \n",
       "2019-12-07            BTC  https://www.cryptocompare.com/media/19633/btc.png   \n",
       "2019-12-08            BTC  https://www.cryptocompare.com/media/19633/btc.png   \n",
       "2019-12-09            BTC  https://www.cryptocompare.com/media/19633/btc.png   \n",
       "2019-12-10            BTC  https://www.cryptocompare.com/media/19633/btc.png   \n",
       "...                   ...                                                ...   \n",
       "2021-01-05            DCR  https://www.cryptocompare.com/media/1382607/de...   \n",
       "2021-01-06            DCR  https://www.cryptocompare.com/media/1382607/de...   \n",
       "2021-01-07            DCR  https://www.cryptocompare.com/media/1382607/de...   \n",
       "2021-01-08            DCR  https://www.cryptocompare.com/media/1382607/de...   \n",
       "2021-01-09            DCR  https://www.cryptocompare.com/media/1382607/de...   \n",
       "\n",
       "           coin_name  \n",
       "datetime              \n",
       "2019-12-06   Bitcoin  \n",
       "2019-12-07   Bitcoin  \n",
       "2019-12-08   Bitcoin  \n",
       "2019-12-09   Bitcoin  \n",
       "2019-12-10   Bitcoin  \n",
       "...              ...  \n",
       "2021-01-05    Decred  \n",
       "2021-01-06    Decred  \n",
       "2021-01-07    Decred  \n",
       "2021-01-08    Decred  \n",
       "2021-01-09    Decred  \n",
       "\n",
       "[40100 rows x 9 columns]"
      ]
     },
     "execution_count": 10,
     "metadata": {},
     "output_type": "execute_result"
    }
   ],
   "source": [
    "# 방법 1\n",
    "# read_csv 시 parse_dates를 통해 불러 올때 일자형으로 만들수 있습니다.\n",
    "# 일자를 index로 두어 forecast할 때 일자형식으로 받아 올수 있게합니다.\n",
    "df_bitcoin_org = pd.read_csv('data/prof2102_1.csv', parse_dates=['datetime'], index_col='datetime')\n",
    "df_bitcoin_org"
   ]
  },
  {
   "cell_type": "code",
   "execution_count": 12,
   "id": "02e30847",
   "metadata": {},
   "outputs": [],
   "source": [
    "# 방법 2\n",
    "df_bitcoin_org = pd.read_csv('data/prof2102_1.csv')\n",
    "# pd.to_datetime으로 일자형 변환을 통해서도 할 수 일자로 만들 수 있습니다.\n",
    "df_bitcoin_org['datetime'] = pd.to_datetime(df_bitcoin_org['datetime'])\n",
    "df_bitcoin_org.set_index('datetime', inplace=True)"
   ]
  },
  {
   "cell_type": "code",
   "execution_count": 13,
   "id": "12f0e87f",
   "metadata": {},
   "outputs": [
    {
     "name": "stdout",
     "output_type": "stream",
     "text": [
      "<class 'pandas.core.frame.DataFrame'>\n",
      "DatetimeIndex: 40100 entries, 2019-12-06 to 2021-01-09\n",
      "Data columns (total 9 columns):\n",
      "low               40100 non-null float64\n",
      "high              40100 non-null float64\n",
      "open              40100 non-null float64\n",
      "close             40100 non-null float64\n",
      "volumefrom        40100 non-null float64\n",
      "volumeto          40100 non-null float64\n",
      "cryptocurrency    40100 non-null object\n",
      "image_url         40100 non-null object\n",
      "coin_name         40100 non-null object\n",
      "dtypes: float64(6), object(3)\n",
      "memory usage: 3.1+ MB\n"
     ]
    }
   ],
   "source": [
    "df_bitcoin_org.info()"
   ]
  },
  {
   "cell_type": "code",
   "execution_count": 14,
   "id": "c6a4c6e1",
   "metadata": {},
   "outputs": [
    {
     "data": {
      "text/html": [
       "<div>\n",
       "<style scoped>\n",
       "    .dataframe tbody tr th:only-of-type {\n",
       "        vertical-align: middle;\n",
       "    }\n",
       "\n",
       "    .dataframe tbody tr th {\n",
       "        vertical-align: top;\n",
       "    }\n",
       "\n",
       "    .dataframe thead th {\n",
       "        text-align: right;\n",
       "    }\n",
       "</style>\n",
       "<table border=\"1\" class=\"dataframe\">\n",
       "  <thead>\n",
       "    <tr style=\"text-align: right;\">\n",
       "      <th></th>\n",
       "      <th>low</th>\n",
       "      <th>high</th>\n",
       "      <th>open</th>\n",
       "      <th>close</th>\n",
       "      <th>volumefrom</th>\n",
       "      <th>volumeto</th>\n",
       "      <th>cryptocurrency</th>\n",
       "      <th>image_url</th>\n",
       "      <th>coin_name</th>\n",
       "    </tr>\n",
       "    <tr>\n",
       "      <th>datetime</th>\n",
       "      <th></th>\n",
       "      <th></th>\n",
       "      <th></th>\n",
       "      <th></th>\n",
       "      <th></th>\n",
       "      <th></th>\n",
       "      <th></th>\n",
       "      <th></th>\n",
       "      <th></th>\n",
       "    </tr>\n",
       "  </thead>\n",
       "  <tbody>\n",
       "    <tr>\n",
       "      <td>2019-12-06</td>\n",
       "      <td>7323.86</td>\n",
       "      <td>7607.79</td>\n",
       "      <td>7406.75</td>\n",
       "      <td>7558.58</td>\n",
       "      <td>28169.83</td>\n",
       "      <td>2.098513e+08</td>\n",
       "      <td>BTC</td>\n",
       "      <td>https://www.cryptocompare.com/media/19633/btc.png</td>\n",
       "      <td>Bitcoin</td>\n",
       "    </tr>\n",
       "    <tr>\n",
       "      <td>2019-12-07</td>\n",
       "      <td>7503.10</td>\n",
       "      <td>7640.51</td>\n",
       "      <td>7558.58</td>\n",
       "      <td>7514.86</td>\n",
       "      <td>14093.87</td>\n",
       "      <td>1.065722e+08</td>\n",
       "      <td>BTC</td>\n",
       "      <td>https://www.cryptocompare.com/media/19633/btc.png</td>\n",
       "      <td>Bitcoin</td>\n",
       "    </tr>\n",
       "    <tr>\n",
       "      <td>2019-12-08</td>\n",
       "      <td>7414.51</td>\n",
       "      <td>7594.80</td>\n",
       "      <td>7514.86</td>\n",
       "      <td>7539.70</td>\n",
       "      <td>15949.09</td>\n",
       "      <td>1.200003e+08</td>\n",
       "      <td>BTC</td>\n",
       "      <td>https://www.cryptocompare.com/media/19633/btc.png</td>\n",
       "      <td>Bitcoin</td>\n",
       "    </tr>\n",
       "    <tr>\n",
       "      <td>2019-12-09</td>\n",
       "      <td>7296.42</td>\n",
       "      <td>7667.04</td>\n",
       "      <td>7539.70</td>\n",
       "      <td>7350.62</td>\n",
       "      <td>35089.72</td>\n",
       "      <td>2.621613e+08</td>\n",
       "      <td>BTC</td>\n",
       "      <td>https://www.cryptocompare.com/media/19633/btc.png</td>\n",
       "      <td>Bitcoin</td>\n",
       "    </tr>\n",
       "    <tr>\n",
       "      <td>2019-12-10</td>\n",
       "      <td>7176.42</td>\n",
       "      <td>7403.64</td>\n",
       "      <td>7350.62</td>\n",
       "      <td>7233.84</td>\n",
       "      <td>23348.59</td>\n",
       "      <td>1.704194e+08</td>\n",
       "      <td>BTC</td>\n",
       "      <td>https://www.cryptocompare.com/media/19633/btc.png</td>\n",
       "      <td>Bitcoin</td>\n",
       "    </tr>\n",
       "  </tbody>\n",
       "</table>\n",
       "</div>"
      ],
      "text/plain": [
       "                low     high     open    close  volumefrom      volumeto  \\\n",
       "datetime                                                                   \n",
       "2019-12-06  7323.86  7607.79  7406.75  7558.58    28169.83  2.098513e+08   \n",
       "2019-12-07  7503.10  7640.51  7558.58  7514.86    14093.87  1.065722e+08   \n",
       "2019-12-08  7414.51  7594.80  7514.86  7539.70    15949.09  1.200003e+08   \n",
       "2019-12-09  7296.42  7667.04  7539.70  7350.62    35089.72  2.621613e+08   \n",
       "2019-12-10  7176.42  7403.64  7350.62  7233.84    23348.59  1.704194e+08   \n",
       "\n",
       "           cryptocurrency                                          image_url  \\\n",
       "datetime                                                                       \n",
       "2019-12-06            BTC  https://www.cryptocompare.com/media/19633/btc.png   \n",
       "2019-12-07            BTC  https://www.cryptocompare.com/media/19633/btc.png   \n",
       "2019-12-08            BTC  https://www.cryptocompare.com/media/19633/btc.png   \n",
       "2019-12-09            BTC  https://www.cryptocompare.com/media/19633/btc.png   \n",
       "2019-12-10            BTC  https://www.cryptocompare.com/media/19633/btc.png   \n",
       "\n",
       "           coin_name  \n",
       "datetime              \n",
       "2019-12-06   Bitcoin  \n",
       "2019-12-07   Bitcoin  \n",
       "2019-12-08   Bitcoin  \n",
       "2019-12-09   Bitcoin  \n",
       "2019-12-10   Bitcoin  "
      ]
     },
     "execution_count": 14,
     "metadata": {},
     "output_type": "execute_result"
    }
   ],
   "source": [
    "df_bitcoin_org.head()"
   ]
  },
  {
   "cell_type": "code",
   "execution_count": 18,
   "id": "96cd929a",
   "metadata": {},
   "outputs": [
    {
     "data": {
      "text/html": [
       "<div>\n",
       "<style scoped>\n",
       "    .dataframe tbody tr th:only-of-type {\n",
       "        vertical-align: middle;\n",
       "    }\n",
       "\n",
       "    .dataframe tbody tr th {\n",
       "        vertical-align: top;\n",
       "    }\n",
       "\n",
       "    .dataframe thead th {\n",
       "        text-align: right;\n",
       "    }\n",
       "</style>\n",
       "<table border=\"1\" class=\"dataframe\">\n",
       "  <thead>\n",
       "    <tr style=\"text-align: right;\">\n",
       "      <th></th>\n",
       "      <th>close</th>\n",
       "    </tr>\n",
       "    <tr>\n",
       "      <th>datetime</th>\n",
       "      <th></th>\n",
       "    </tr>\n",
       "  </thead>\n",
       "  <tbody>\n",
       "    <tr>\n",
       "      <td>2019-12-06</td>\n",
       "      <td>7558.58</td>\n",
       "    </tr>\n",
       "    <tr>\n",
       "      <td>2019-12-07</td>\n",
       "      <td>7514.86</td>\n",
       "    </tr>\n",
       "    <tr>\n",
       "      <td>2019-12-08</td>\n",
       "      <td>7539.70</td>\n",
       "    </tr>\n",
       "    <tr>\n",
       "      <td>2019-12-09</td>\n",
       "      <td>7350.62</td>\n",
       "    </tr>\n",
       "    <tr>\n",
       "      <td>2019-12-10</td>\n",
       "      <td>7233.84</td>\n",
       "    </tr>\n",
       "    <tr>\n",
       "      <td>...</td>\n",
       "      <td>...</td>\n",
       "    </tr>\n",
       "    <tr>\n",
       "      <td>2021-01-05</td>\n",
       "      <td>34038.29</td>\n",
       "    </tr>\n",
       "    <tr>\n",
       "      <td>2021-01-06</td>\n",
       "      <td>36849.86</td>\n",
       "    </tr>\n",
       "    <tr>\n",
       "      <td>2021-01-07</td>\n",
       "      <td>39479.41</td>\n",
       "    </tr>\n",
       "    <tr>\n",
       "      <td>2021-01-08</td>\n",
       "      <td>40636.24</td>\n",
       "    </tr>\n",
       "    <tr>\n",
       "      <td>2021-01-09</td>\n",
       "      <td>40770.34</td>\n",
       "    </tr>\n",
       "  </tbody>\n",
       "</table>\n",
       "<p>401 rows × 1 columns</p>\n",
       "</div>"
      ],
      "text/plain": [
       "               close\n",
       "datetime            \n",
       "2019-12-06   7558.58\n",
       "2019-12-07   7514.86\n",
       "2019-12-08   7539.70\n",
       "2019-12-09   7350.62\n",
       "2019-12-10   7233.84\n",
       "...              ...\n",
       "2021-01-05  34038.29\n",
       "2021-01-06  36849.86\n",
       "2021-01-07  39479.41\n",
       "2021-01-08  40636.24\n",
       "2021-01-09  40770.34\n",
       "\n",
       "[401 rows x 1 columns]"
      ]
     },
     "execution_count": 18,
     "metadata": {},
     "output_type": "execute_result"
    }
   ],
   "source": [
    "df_bitcoin1 = df_bitcoin_org.loc[\n",
    "    df_bitcoin_org['coin_name'] == 'Bitcoin', ['close']\n",
    "].copy() #‘Bitcoin’인 행만으로 구성된 데이터로, 날짜(datetime)와 종료가(close) 컬럼만을 남깁니다\n",
    "df_bitcoin1"
   ]
  },
  {
   "cell_type": "markdown",
   "id": "0590550a",
   "metadata": {},
   "source": [
    "## 문제 1번 - 10점\n",
    "\n",
    "**(bitcoin#1을 이용하여)** Holt-Winters Model은 시계열 분석을 위한 기준 모델 중 하나로써 수준, 추세, 계절성 정보를 반영할 수 있습니다. 이에 따라 먼저 Holt-Winters 모형을 적용하여 데이터의 대략적인 시계열 패턴을 파악하고자 합니다.\n",
    "\n",
    "‘2020-09-30’까지의 종료가(close)에 대해, 주기가 7인 Holt-Winters 가법 모델을 학습하고, 학습된 모델을 활용하여 이후 날짜(101일)의 종료가(close)를 예측합니다. 예측된 결과를 활용하여, 다음의 성능 지표 A를 구하시오.\n",
    "\n",
    "$ A = \\sqrt{\\frac{\\sum_{i=1}^{n}(y_i - p_i)^2}{n}} $\n",
    "\n",
    "여기서, i번째 실제 종료가(close)를 $y_i$, i번째 예측된 종료가(close)를 $p_i$를 의미합니다.\n",
    "\n",
    "**Python 함수가이드**\n",
    "```\n",
    "from statsmodels.tsa.api import ExponentialSmoothing\n",
    "trend='additive',seasonal='additive' 로 설정\n",
    "문제 지시 외 파라미터는 default 값 사용\n",
    "```\n",
    "\n",
    "성능 지표 A를 소수점 넷째 자리에서 반올림하여 셋째 자리까지 기술하시오.\n",
    "\n",
    "\n",
    " (답안예시) 1002.345"
   ]
  },
  {
   "cell_type": "code",
   "execution_count": 21,
   "id": "14be5ec1",
   "metadata": {},
   "outputs": [
    {
     "data": {
      "text/plain": [
       "datetime\n",
       "2019-12-06     7558.58\n",
       "2019-12-07     7514.86\n",
       "2019-12-08     7539.70\n",
       "2019-12-09     7350.62\n",
       "2019-12-10     7233.84\n",
       "                ...   \n",
       "2020-09-26    10734.23\n",
       "2020-09-27    10781.47\n",
       "2020-09-28    10699.00\n",
       "2020-09-29    10841.29\n",
       "2020-09-30    10779.42\n",
       "Name: close, Length: 300, dtype: float64"
      ]
     },
     "execution_count": 21,
     "metadata": {},
     "output_type": "execute_result"
    }
   ],
   "source": [
    "# 데이터를 확인해봅니다.\n",
    "df_bitcoin1.loc[df_bitcoin1.index <= '2020-09-30', 'close']"
   ]
  },
  {
   "cell_type": "code",
   "execution_count": 25,
   "id": "e2272e80",
   "metadata": {},
   "outputs": [
    {
     "data": {
      "text/plain": [
       "9892.895710432807"
      ]
     },
     "execution_count": 25,
     "metadata": {},
     "output_type": "execute_result"
    }
   ],
   "source": [
    "from statsmodels.tsa.api import ExponentialSmoothing\n",
    "from sklearn.metrics import mean_squared_error\n",
    "\n",
    "es = ExponentialSmoothing(\n",
    "    df_bitcoin1.loc[df_bitcoin1.index <= '2020-09-30', 'close'], # ‘2020-09-30’까지의 종료가(close)에 대해\n",
    "    trend='additive',seasonal='additive', # 가법 모델을 학습하고\n",
    "    seasonal_periods = 7, # ‘주기가 7인 Holt-Winters ,\n",
    "    freq='D'\n",
    ").fit()\n",
    "A = mean_squared_error(\n",
    "    df_bitcoin1.loc[df_bitcoin1.index > '2020-09-30', 'close'],  \n",
    "    es.forecast(101) # 학습된 모델을 활용하여 이후 날짜(101일)의 종료가(close)를 예측\n",
    ") ** 0.5\n",
    "A"
   ]
  },
  {
   "cell_type": "code",
   "execution_count": 29,
   "id": "e2f831d9",
   "metadata": {},
   "outputs": [
    {
     "data": {
      "text/plain": [
       "9892.895710432807"
      ]
     },
     "execution_count": 29,
     "metadata": {},
     "output_type": "execute_result"
    }
   ],
   "source": [
    "def perf(t,f):\n",
    "    t=np.array(t)\n",
    "    f=np.array(f)\n",
    "    return np.sqrt(np.sum(np.square(t-f))/t.shape[0])\n",
    "\n",
    "perf(\n",
    "    df_bitcoin1.loc[df_bitcoin1.index > '2020-09-30', 'close'],  \n",
    "    es.forecast(101)\n",
    ")"
   ]
  },
  {
   "cell_type": "code",
   "execution_count": 28,
   "id": "078f3d33",
   "metadata": {},
   "outputs": [
    {
     "data": {
      "text/plain": [
       "9892.896"
      ]
     },
     "execution_count": 28,
     "metadata": {},
     "output_type": "execute_result"
    }
   ],
   "source": [
    "round(A, 3)"
   ]
  },
  {
   "cell_type": "code",
   "execution_count": null,
   "id": "68b478d8",
   "metadata": {},
   "outputs": [],
   "source": [
    "sns.lineplot(data=df_bitcoin_1, x='datetime', y='close')\n",
    "sns.lineplot(x=df_bitcoin_1.loc[df_bitcoin['datetime'] <= '2020-09-30', 'datetime'], y=reg_es.predict(0, 300))\n",
    "sns.lineplot(x=df_bitcoin_1.loc[df_bitcoin['datetime'] > '2020-09-30', 'datetime'], y=reg_es.forecast(101))\n",
    "plt.show()"
   ]
  },
  {
   "cell_type": "markdown",
   "id": "16bc1128",
   "metadata": {},
   "source": [
    "**9892.896**"
   ]
  },
  {
   "cell_type": "markdown",
   "id": "c05b6cbe",
   "metadata": {},
   "source": [
    "## 문제 2번10점\n",
    "\n",
    "**(bitcoin#1을 이용하여)** 이제2번부터 4번까지는 다른 방법의 시계열을 모델링하고자 합니다. 우선 모델링에 앞서 시계열이 정상성을 갖는지를 확인할 것입니다. 정상성이 만족되지 않는 시계열은 사용하기에 많은 제약이 생기기 때문입니다. 이에 따라 본 문제에서는 정상성을 알아보기 위한 방법으로, Augmented Dickey Fuller(ADF) 검정을 수행합니다.\n",
    "\n",
    "**Python 함수가이드**\n",
    "```\n",
    "from statsmodels.tsa.stattools import adfuller\n",
    "문제 지시 외 파라미터는 default 값 사용\n",
    "```\n",
    "\n",
    "종료가(close)에 대하여 Augmented Dickey Fuller(ADF) 검정을 수행할 때, 검정통계량을 기술하시오.\n",
    "소수점 둘째 자리에서 반올림하여 첫째 자리까지 기술하시오.\n",
    "\n",
    "\n",
    " (답안예시) 1.2\n"
   ]
  },
  {
   "cell_type": "code",
   "execution_count": 36,
   "id": "560b3b0d",
   "metadata": {},
   "outputs": [
    {
     "data": {
      "text/plain": [
       "(7.704878219787651,\n",
       " 1.0,\n",
       " 0,\n",
       " 400,\n",
       " {'1%': -3.4468044036406247, '5%': -2.868792838125, '10%': -2.57063355625},\n",
       " 5786.204067911188)"
      ]
     },
     "execution_count": 36,
     "metadata": {},
     "output_type": "execute_result"
    }
   ],
   "source": [
    "from statsmodels.tsa.stattools import adfuller\n",
    "adfuller(df_bitcoin1['close'])"
   ]
  },
  {
   "cell_type": "markdown",
   "id": "7cef3745",
   "metadata": {},
   "source": [
    "**7.7**"
   ]
  },
  {
   "cell_type": "code",
   "execution_count": 39,
   "id": "e6de3c6f",
   "metadata": {},
   "outputs": [
    {
     "data": {
      "image/png": "[encoded data removed]",
      "text/plain": [
       "<Figure size 1600x400 with 2 Axes>"
      ]
     },
     "metadata": {},
     "output_type": "display_data"
    }
   ],
   "source": [
    "fig, axes = plt.subplots(1, 2, figsize=(16, 4))\n",
    "sns.lineplot(data=df_bitcoin1, x='datetime', y='close', ax=axes[0])\n",
    "sns.lineplot(\n",
    "    data=df_bitcoin1.assign(diff=df_bitcoin1['close'] - df_bitcoin1['close'].shift(1)), \n",
    "    x='datetime', y='diff', ax=axes[1])\n",
    "plt.tight_layout()\n",
    "plt.show()"
   ]
  },
  {
   "cell_type": "markdown",
   "id": "41d9a81c",
   "metadata": {},
   "source": [
    "## 문제 3번 10점\n",
    "\n",
    "**(bitcoin#1을 이용하여)** 이제 데이터를 차분한 후 ARIMA (Auto-regressive Integrated Moving Average) 모델을 적용하여 데이터를 예측하고 예측력을 평가하고자 합니다. ARIMA 모델은 차분한 데이터를 자기회귀와 이동 평균 모델과 결합한 모델로써, 복잡한 시계열 데이터를 모델링할 수 있는 이점이 존재합니다. \n"
   ]
  },
  {
   "cell_type": "markdown",
   "id": "ea7afec3",
   "metadata": {},
   "source": [
    "**Step 3-1.** \n",
    "\n",
    "다음과 같이 새로운 수익률 변수 return을 정의합니다.\n",
    "\n",
    "$return_t=ln⁡(\\frac{close_t}{close_{t-1}})$\n",
    "\n",
    "t=1인 경우 결측치가 생성되는데 이 결측치는 제거하시오. (제거 후 rows=400)\n",
    "\n",
    " (답안예시) 0.12"
   ]
  },
  {
   "cell_type": "code",
   "execution_count": 44,
   "id": "fdb5753f",
   "metadata": {},
   "outputs": [
    {
     "data": {
      "text/html": [
       "<div>\n",
       "<style scoped>\n",
       "    .dataframe tbody tr th:only-of-type {\n",
       "        vertical-align: middle;\n",
       "    }\n",
       "\n",
       "    .dataframe tbody tr th {\n",
       "        vertical-align: top;\n",
       "    }\n",
       "\n",
       "    .dataframe thead th {\n",
       "        text-align: right;\n",
       "    }\n",
       "</style>\n",
       "<table border=\"1\" class=\"dataframe\">\n",
       "  <thead>\n",
       "    <tr style=\"text-align: right;\">\n",
       "      <th></th>\n",
       "      <th>close</th>\n",
       "      <th>ret</th>\n",
       "    </tr>\n",
       "    <tr>\n",
       "      <th>datetime</th>\n",
       "      <th></th>\n",
       "      <th></th>\n",
       "    </tr>\n",
       "  </thead>\n",
       "  <tbody>\n",
       "    <tr>\n",
       "      <td>2019-12-07</td>\n",
       "      <td>7514.86</td>\n",
       "      <td>-0.005801</td>\n",
       "    </tr>\n",
       "    <tr>\n",
       "      <td>2019-12-08</td>\n",
       "      <td>7539.70</td>\n",
       "      <td>0.003300</td>\n",
       "    </tr>\n",
       "    <tr>\n",
       "      <td>2019-12-09</td>\n",
       "      <td>7350.62</td>\n",
       "      <td>-0.025398</td>\n",
       "    </tr>\n",
       "    <tr>\n",
       "      <td>2019-12-10</td>\n",
       "      <td>7233.84</td>\n",
       "      <td>-0.016015</td>\n",
       "    </tr>\n",
       "    <tr>\n",
       "      <td>2019-12-11</td>\n",
       "      <td>7212.01</td>\n",
       "      <td>-0.003022</td>\n",
       "    </tr>\n",
       "    <tr>\n",
       "      <td>...</td>\n",
       "      <td>...</td>\n",
       "      <td>...</td>\n",
       "    </tr>\n",
       "    <tr>\n",
       "      <td>2021-01-05</td>\n",
       "      <td>34038.29</td>\n",
       "      <td>0.060796</td>\n",
       "    </tr>\n",
       "    <tr>\n",
       "      <td>2021-01-06</td>\n",
       "      <td>36849.86</td>\n",
       "      <td>0.079366</td>\n",
       "    </tr>\n",
       "    <tr>\n",
       "      <td>2021-01-07</td>\n",
       "      <td>39479.41</td>\n",
       "      <td>0.068927</td>\n",
       "    </tr>\n",
       "    <tr>\n",
       "      <td>2021-01-08</td>\n",
       "      <td>40636.24</td>\n",
       "      <td>0.028881</td>\n",
       "    </tr>\n",
       "    <tr>\n",
       "      <td>2021-01-09</td>\n",
       "      <td>40770.34</td>\n",
       "      <td>0.003295</td>\n",
       "    </tr>\n",
       "  </tbody>\n",
       "</table>\n",
       "<p>400 rows × 2 columns</p>\n",
       "</div>"
      ],
      "text/plain": [
       "               close       ret\n",
       "datetime                      \n",
       "2019-12-07   7514.86 -0.005801\n",
       "2019-12-08   7539.70  0.003300\n",
       "2019-12-09   7350.62 -0.025398\n",
       "2019-12-10   7233.84 -0.016015\n",
       "2019-12-11   7212.01 -0.003022\n",
       "...              ...       ...\n",
       "2021-01-05  34038.29  0.060796\n",
       "2021-01-06  36849.86  0.079366\n",
       "2021-01-07  39479.41  0.068927\n",
       "2021-01-08  40636.24  0.028881\n",
       "2021-01-09  40770.34  0.003295\n",
       "\n",
       "[400 rows x 2 columns]"
      ]
     },
     "execution_count": 44,
     "metadata": {},
     "output_type": "execute_result"
    }
   ],
   "source": [
    "df_bitcoin3 = df_bitcoin1.assign(\n",
    "    ret=lambda x: np.log(x['close'] / x['close'].shift(1)) \n",
    ").dropna()\n",
    "df_bitcoin3"
   ]
  },
  {
   "cell_type": "markdown",
   "id": "7c394d49",
   "metadata": {},
   "source": [
    "**Step 3-2.** \n",
    "\n",
    "이제 날짜(datetime)가 ‘2020-10-01’까지의 return으로 ARIMA 모델을 훈련하고, \n",
    "\n",
    "그 이후의 return의 예측값과 실제값을 비교하려 합니다. \n",
    "\n",
    "이 때, ARIMA model에서 autoregressive model의 order는 1, 차분 횟수는 0, moving average model의 order는 1로 합니다.\n",
    "\n",
    "i번째 실제 return을 $y_i$, i번째 예측된 return을 $p_i$라 할 때, 다음과 같이 정의되는 모델의 성능 지표 A를 구하시오.\n",
    "\n",
    "$ A = \\sqrt{\\frac{\\sum_{i=1}^{n}(y_i - p_i)^2}{n}} $\n",
    "\n",
    "소수점 셋째 자리에서 반올림하여 둘째 자리까지 기술하시오.\n",
    "\n",
    "\n",
    "**Python 함수가이드**\n",
    "```\n",
    "from statsmodels.tsa.api import SARIMAX\n",
    "seasonal_order=(1, 0, 1, 7)로 설정\n",
    "문제 지시 외 파라미터는 default 값 사용\n",
    "```"
   ]
  },
  {
   "cell_type": "code",
   "execution_count": 48,
   "id": "6df8df5d",
   "metadata": {},
   "outputs": [
    {
     "name": "stderr",
     "output_type": "stream",
     "text": [
      "c:\\users\\student\\appdata\\local\\programs\\python\\python37\\lib\\site-packages\\statsmodels\\tsa\\base\\tsa_model.py:162: ValueWarning: No frequency information was provided, so inferred frequency D will be used.\n",
      "  % freq, ValueWarning)\n"
     ]
    }
   ],
   "source": [
    "from statsmodels.tsa.api import SARIMAX\n",
    "\n",
    "srma = SARIMAX(\n",
    "    df_bitcoin3.loc[df_bitcoin3.index <= '2020-10-01', 'ret'], #‘2020-10-01’까지의 return\n",
    "    order=(1, 0, 1), # autoregressive model의 order는 1, 차분 횟수는 0, moving average model의 order는 1\n",
    "    seasonal_order=(1, 0, 1, 7),\n",
    "    freq='D'\n",
    ").fit()"
   ]
  },
  {
   "cell_type": "code",
   "execution_count": 50,
   "id": "7b09c787",
   "metadata": {},
   "outputs": [
    {
     "data": {
      "text/plain": [
       "0.03466119500815353"
      ]
     },
     "execution_count": 50,
     "metadata": {},
     "output_type": "execute_result"
    }
   ],
   "source": [
    "from sklearn.metrics import mean_squared_error\n",
    "mean_squared_error(df_bitcoin3.loc[df_bitcoin3.index > '2020-10-01', 'ret'],  srma.forecast(100)) ** 0.5"
   ]
  },
  {
   "cell_type": "markdown",
   "id": "ebed6a1d",
   "metadata": {},
   "source": [
    "**0.03**"
   ]
  },
  {
   "cell_type": "code",
   "execution_count": 51,
   "id": "8e63072c",
   "metadata": {},
   "outputs": [
    {
     "data": {
      "image/png": "[encoded data removed]",
      "text/plain": [
       "<Figure size 1600x400 with 2 Axes>"
      ]
     },
     "metadata": {},
     "output_type": "display_data"
    }
   ],
   "source": [
    "from statsmodels.graphics.tsaplots import plot_acf, plot_pacf\n",
    "_, axes = plt.subplots(1, 2, figsize=(16, 4))\n",
    "plot_acf(df_bitcoin3['ret'], ax=axes[0])\n",
    "plot_pacf(df_bitcoin3['ret'], ax=axes[1])\n",
    "plt.tight_layout()\n",
    "plt.show()"
   ]
  },
  {
   "cell_type": "markdown",
   "id": "97223257",
   "metadata": {},
   "source": [
    "# 쉬는 시간: ~11:24\n",
    "\n",
    "## 문제 4번 10점\n",
    "\n",
    "* 시간: 20분\n",
    "\n",
    "**(bitcoin#1을 이용하여)** 이번에는 시계열 모델링 대신 머신 러닝 기법을 이용해 가격 예측 모형을 수립하고 이를 평가하고자 합니다. 즉 적절한 다차원 Input을 정의한 다음 Input과 Output 사이의 관계를 모델링하고자 합니다. 이에 따라 본 문제에서는 최근의 가격 정보를 이용해 오늘의 가격을 예측하는 모형을 개발합니다. 직전 6일을 feature변수로 하고, 오늘의 가격을 Output으로 하여 예측 모델을 만들고 성능을 평가하고자 합니다.\n"
   ]
  },
  {
   "cell_type": "code",
   "execution_count": null,
   "id": "b246f831",
   "metadata": {},
   "outputs": [],
   "source": []
  },
  {
   "cell_type": "markdown",
   "id": "5cf3f1a2",
   "metadata": {},
   "source": [
    "**Step 4-1.**\n",
    "\n",
    "'2019-12-12' 부터 '2021-01-09'까지의 각각의 날짜(datetime)에 대하여, \n",
    "\n",
    "최근 6일 전부터 어제까지의 각각의 종료가(close)를 feature변수로, 오늘의 종료가(close)를 Output 변수로 정의합니다. \n",
    "\n",
    "1일 전 종료가(close)는 close_1, 2일 전 종료가(close)는 close_2, … , 6일 전 종료가(close)는 close_6이 됩니다. \n",
    "\n",
    "즉, ‘2019-12-12’의 종료가(close)를 예측하기 위해 직전 6일인 ‘2019-12-06’~‘2019-12-11’의 날짜의 종료가(close)를 사용하며, \n",
    "\n",
    "close_1은 '2019-12-12'의 하루 전인 '2019-12-11'의 종료가(close), close_2는 '2019-12-12'의 이틀 전인 '2019-12-10'의 종료가(close),…, close_6은 '2019-12-12'의 6일 전인 '2019-12-6'의 종료가(close)가 됩니다. 생성된 데이터셋은 다음과 같은 형태입니다.\n",
    "\n",
    "|datetime|close|close_1|close_2|close_3|close_4|close_5|close_6|\n",
    "|--------|-----|-------|-------|-------|-------|-------|-------|\n",
    "|2019-12-12| | | | | | | |\n",
    "|2019-12-13| | | | | | | |\n",
    "|...| | | | | | | |\n",
    "|2021-01-09| | | | | | | |"
   ]
  },
  {
   "cell_type": "code",
   "execution_count": null,
   "id": "e1b71f5f",
   "metadata": {},
   "outputs": [],
   "source": []
  },
  {
   "cell_type": "markdown",
   "id": "d0b27818",
   "metadata": {},
   "source": [
    "**Step 4-2.**\n",
    "\n",
    "이제 ‘2020-09-30’까지의 데이터(294 rows)에 대해 MLP Regression 으로 학습하고 그 이후의 데이터(101 rows)에 대해 예측을 수행합니다. \n",
    "\n",
    "이 때, MLP Regression에서 Hidden Layer의 depth는 3으로 하며 neuron의 size는 각각 50, 30, 10으로 합니다.\n",
    "\n",
    "**Python 함수가이드**\n",
    "```\n",
    "from sklearn.neural_network import MLPRegressor\n",
    "random_state=1234\n",
    "- feature 순서는 close_1, close_2, … , close_6 순으로 할 것\n",
    "문제 지시 외 파라미터는 default 값 사용\n",
    "```\n"
   ]
  },
  {
   "cell_type": "code",
   "execution_count": null,
   "id": "b8f602d9",
   "metadata": {},
   "outputs": [],
   "source": []
  },
  {
   "cell_type": "markdown",
   "id": "6b4c0e31",
   "metadata": {},
   "source": [
    "**Step 4-3.**\n",
    "\n",
    "i번째 실제 오늘의 종료가(close)를 y_i, i번째 예측된 오늘의 종료가(close)를 p_i라 할 때, \n",
    "\n",
    "다음과 같이 정의되는 모델의 성능 지표 A를 구하시오.\n",
    "\n",
    "$ A = \\sqrt{\\frac{\\sum_{i=1}^{n}(y_i - p_i)^2}{n}} $\n",
    "\n",
    "소수점 셋째 자리에서 반올림하여 둘째 자리까지 기술하시오.\n"
   ]
  },
  {
   "cell_type": "code",
   "execution_count": null,
   "id": "269d33de",
   "metadata": {},
   "outputs": [],
   "source": []
  },
  {
   "cell_type": "markdown",
   "id": "c7c5ecdf",
   "metadata": {},
   "source": [
    "**Step4 + α**\n",
    "\n",
    "아래에서 주어진 3가지 신경망 하이퍼파라메터 중에서 학습셋('2020-09-30’까지의 데이터)으로 학습을 시키고,\n",
    "\n",
    "테스트셋('2020-10-01' 이후 데이터)으로 아래주어진 모델 성능 지표로 평가를 했을 때, \n",
    "\n",
    "가장 좋은 성능을 보이는 하이퍼파라메터 설정번호(No.) 와 그 설정의 모델 성능 지표를 구하세요.\n",
    "\n",
    "성능 지표: $ A = \\sqrt{\\frac{\\sum_{i=1}^{n}(y_i - p_i)^2}{n}} $\n",
    "\n",
    "|No.|은닉층 크기|은닉층의 활성화 함수|\n",
    "|---|-----------|--------------------|\n",
    "|1|(64, 16)|![image.png](data:image/png;base64,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)|\n",
    "|2|(64, 16)|![image.png](data:image/png;base64,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)|\n",
    "|3|(16, 8)|![image.png](data:image/png;base64,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)|\n",
    "|3|(16, 8)|![image.png](data:image/png;base64,iVBORw0KGgoAAAANSUhEUgAAALQAAABaCAYAAAARg3zAAAALb0lEQVR4Ae2d0W8Uxx3Hv4Yi6yx36zhCJoYgFcl+yQOVoA95KChGNSeFltjloWA1FJq6ClYrJZFIgu2bsX2yTQkPtVTskIoSVCBp4CEgEZAqoshxJKQoVYIoykMeqlZKE7VNpP4D1W99a493Z3bn7gc+LvtDWt3ub/a3s/uZj/eW3blZLCws9M7Pz3dXO1Ge5PpxO3LkSC9N1TKm9YWzH+OIFWgGNfyLGqeG1LDOPNULgBgLZw9ZuF6J0B6QaRUOaBHaEzKTc3iSzNOZkiMlJ1eEFqGdBDhi1StXhHY2Z6KA20ZyyZFAag9wQIvQdqa2KIcz5YrQNqqWGAe0CG0B6ghxOIvQDqi2MAe0CG0jao9xOIvQdqbWKAe0CG1Fag1yOIvQVqT2IAe0CG1naotyOIvQNqKOGAe0CO2AaglzOIvQFqCuEAe0CO2imoxzOIvQSZ7OCAe0CO3EmijgcBahEzjdAQ5oEdrNNV7C4RwKLT3m/HpzcXq9SW87P8YkpMn5z1NT2y6Vy9tpOj80tOPswYO7ounMgQO7Z4vFPnM6Nzg4BBHaD7YJOjqL+H7mQeirc3Nbzxw61DPX27vvtb6+4dmenqkTW7bo6Y0bT053dJyebG+/OBEEb0+0tt6YaGlZGC8UPhovFD4ca27+eKJQuDXW3HyblstBcKccBHdpHZrKra03y0HwztLU1nZpsr39jWiaWr/+ddo+Ta90d78pTwrj33mO5UheR3FWuKG7jw4C60aALg0Ux4BnFXBcAxcU8J4C/qqBTxQwr4DLCnh1esOGU9ObN09p4HAJ6CsBu0aBbbSNY8AjGmhzAeNwplwR2kU2FueAbqRr6GHg0RKwd7qzc6YcBNcVcEcBdzVwRQMzGviNBvaMAltfBh6OYQoXOay4uSK0rUUsMQ7oB1jopnFgK0mqgLcU8JkGPlDA7MmuruHTe/b0aaDFgiM1xGHFzRWhU5tmuZAD+kESWgOtGtingbMa+KcG3tfASAl4wpSXc7z1zBWhl51NneM0Ur2F/jXQrIF+usbVwJcKuFgCfvIS8JDroDnHW89cEdrVorE4p5HqJfQf9u8v0l0ABXyhgKsjwFPPAYXYoVkXOcdbz1wR2tqcySCnkVZbaA30aOCaXrv28+lNm05ooDN5ROkRzvHWM1eETm/XpVJOI62W0CVgtwLeVcAtDfz8+oULj9F+Lx1EFTOc461nrgjt2cicRrrfQmtge+We8Kca+KkG1tBhcfa5UXNF6AYW+hjQoYA/KuBzOiNr4Fvm4TSqlLTf5nH4zod5nGTJ9UV9zweaaaKncJU7Fr9zPXmj9slbG8kZ2tNJjhz38pJjBPiuBm7SI2d6Wpe2+5x9btRcETrNCKOM08D3SugSMKCA/yhgjPpXGLtnneXsc6PmSm87z4Eq69nb7vr583vLQXBlbN26v58uFvsi2bI+OfvcqLki9AMu9J+ef/6X44XCP6ijEPUPzpLYLG9UKWm/zePwnac8ueSwflkngxHUZIlXpKbuo9T1Uq9Z89Vvu7pGvGqJrcTZ50bNFaFjErgWOQ1cwzV0Uwl4ke5izDz++NNUt2u/0uKcfW7UXBE6zQijjNPA1Qhd6Uh0SgELdEeDU28ec0VoQ9q0WY4cvkIfBb6tgBsa+MuLwHdofzj15jFXhE6z2CjjyOEjtAY2KeC2Bs6Zt+Q49eYxV4Q2pE2b5ciRJbQGujXwqQKOAWgy94NTbx5zRWjTnpR5jhxpQo8Cj9EvRxRw1FY9p9485orQNossMY4cLqFHge8r4N8aGLRUGYY49eYxV4R2mRSLc+SwCT0K/IAeY48A/bGqVixy6s1jrgi9Qh/3AkeOuNAa2EEy0+/63DUulnDqzWOuCJ1lVKWcI4cp9CiwUwFfaeDHPlVz6s1jrgjtYxXzfnAktAZ6SeYS8EPPasP2ITF91zfXE6FNGhnzeYRVq1gk9ABwWAFfl4AfZaBdUSycV+BIXQjbZ2BgoDc6g1TzSXmSu/RLlKjzkfVzN3B0FPjfz4BfVMM4/EMQzlamNo6hjyKln5S1/gGTxCQzSW1rhKxYrfXm9Y9BrqFTv8SWC2v56q8MK/D108CvKuIub9BzrpZ6o03nMVeEjlo/47NaOeg/fpW7GeYlXUYtyeJq6zW3kMdcEdo0IGW+GjnolhzJTLfoKpuMrgNTarAXVVNvfAt5zBWh4xY4ln3loLsYGvgvDfJtbEqENmCkzfpytm2DckVoGxlLzAc0PcamJ4D0WDu2CRE6BsS16MM5LVeEdtGJxbNAUwcj6mhEHY5iqbQoQlug2EJZnG05UYxyReiIRsZnGujKCPg0HNf3HJsRoR1g4uE0zvF148sidJxIyrIDdBN1yqfO+dRJPyVdhE6BYxY5OJurOOdFaCeaZEEcNP1Min4uVfnZ1KZkxoqICL0Ch3shztm9ZrJEhE4ycUZM0JX3lFyjsZhdAyXGNiRCx4C4Fk3OrnVccRHaRcYSj0DT0AI0xEAJOEVDDlhWtYVEaBsVSyzibCnKDInQmYiWVyBYv9+5c78G/qWB6WhQ8eU1UudE6FQ8y4Ui9DKLzDkOLBqOi4blouG5MitKriBCJ5lYI5w2olwZrDFjsEYaIJEGSqQBEy+88MIzEfBqPvPwrm+TRz0HiRShU4SeKxb7aQhbGsqWhrStdVRMEXrxTQKm9K557h+DPFixfPHRLTkaVLzyQ9YBWiVqAMvqPiG55PChxORMbSRCx0DTax7odQ/02ge6oxEVi9ARiexPDiturghdaR+6n6wAegHPl/RCnns5JJf05cj+I4jWEKEjEh6fNlj0KjR6JRq9Go1ekUavSrNtypZrW88Rk0sOB5h4mMOZcnN7hqb7yPSSSrU4SOJ79PLKOFxzmQNaztAmyfR5DudcCk2vC66ckW/Ro2v63V864sVSDmgR2ocwn3OuhKYXuIcvcl+7lrp5XqMXvPtjlrscq8WKc+L4xgv9HFAYAZ5SwFUFfDG1fv3rZw4c8DojxxuQA1rO0HGa7mUO52+k0C8BD9EgiAq4WHl18GUN9FNHIi6sEJi7LdJK5D+FaXSMMm4bNfx/CjXQUgKeGAVGNPA+DR6ugbMa2EfdPA1W4bHWKiUHtJyhzVZIn+dwDtu2Hg1c606TvHNPPtl/sqtrWAGzGvhAAZ8p4C36GdT44ruvV7zSwcRXa720DU6uCG22Qvo8hzPlPnBn6JeBh+lpnQb2kKQamNHAFQXcVcAd6ig03dk5UwL2DgOPpuNZWcqFFQJbuUnfJbnk8CTFbaP7JjQ9eTsGPDICdI0C22icivDNqMDh45s3T05v2EDv4ntVAZcVMK+BT+iRswLonvAFBRwfA57VQJG2Eb0ZinvAtUrJqVfO0J42M78Jw7Z9pbv7zemOjtM00V2Ayfb2N6Kp3NZ2qRwE7yxNra03J1paFmgqB8HfykFwZ7xQ+HCsufn2RKFwa6y5+WNaHi8UPgrXa229MREEb0+2t18M69i48eSJLVv0bE/P1Gt9fcNzvb37zhw61HN1bm5rJEzWJ7c3Vq095jj1Sm+7Vextd25wcGi2WOwzJ7q1dfbgwV3RdH5oaMelcnk7TdEL1DkNnLdcEXoVhQ5P0/7fCEtrRmfSpUAVM3nLlUsOfzm4bty3a+i0Q+DuNOWnbd9VVq96RWhXiyTj3DYSoZNMrREOaBHaitQa5HCmXBHaijUZ5IAWoZM8XREOZxHaRdUS54AWoS1AHSEOZxHaAdUW5oAWoW1E7TEOZxHaztQa5YAWoa1IrUEOZxHaitQe5IAWoe1MbVEOZxHaRtQR44AWoR1QLWEOZxHaAtQV4oAWoV1Uk3EOZxE6ydMZ4YAWoZ1YEwUcziJ0Aqc7wAEtQru5xks4nEXoOM2UZQ5oEToFbKyIwzkUuh7dKaW33er1Pstb+/4fLzNltGVtwx8AAAAASUVORK5CYII=)|\n",
    "\n",
    "**Python 함수가이드**\n",
    "```\n",
    "from sklearn.neural_network import MLPRegressor\n",
    "random_state=1234\n",
    "- feature 순서는 close_1, close_2, … , close_6 순으로 할 것\n",
    "문제 지시 외 파라미터는 default 값 사용\n",
    "```"
   ]
  },
  {
   "cell_type": "code",
   "execution_count": null,
   "id": "0495f3b1",
   "metadata": {},
   "outputs": [],
   "source": []
  }
 ],
 "metadata": {
  "kernelspec": {
   "display_name": "Python 3 (ipykernel)",
   "language": "python",
   "name": "python3"
  },
  "language_info": {
   "codemirror_mode": {
    "name": "ipython",
    "version": 3
   },
   "file_extension": ".py",
   "mimetype": "text/x-python",
   "name": "python",
   "nbconvert_exporter": "python",
   "pygments_lexer": "ipython3",
   "version": "3.7.4"
  }
 },
 "nbformat": 4,
 "nbformat_minor": 5
}
